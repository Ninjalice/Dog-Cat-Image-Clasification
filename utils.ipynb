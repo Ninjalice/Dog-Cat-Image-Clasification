{
 "cells": [
  {
   "cell_type": "code",
   "execution_count": null,
   "metadata": {},
   "outputs": [],
   "source": [
    "datasets = [\"cat_dog_100\"]\n",
    "\n",
    "for dataset in datasets:\n",
    "    print(\"dataset: \", dataset)\n",
    "\n",
    "    # Cargamos los datos de entrenamiento y prueba desde los ficheros\n",
    "    X_train = np.loadtxt(\"datasets/\"+dataset+\"_X_train.txt\", dtype=np.uint8)\n",
    "    y_train = np.loadtxt(\"datasets/\"+dataset+\"_y_train.txt\", dtype=str)\n",
    "    X_test = np.loadtxt(\"datasets/\"+dataset+\"_X_test.txt\", dtype=np.uint8)\n",
    "    y_test = np.loadtxt(\"datasets/\"+dataset+\"_y_test.txt\", dtype=str)\n",
    "\n",
    "    # Creamos un clasificador SVM\n",
    "    clf = SVC(gamma='auto')\n",
    "\n",
    "    # Entrenamos el clasificador con los datos de entrenamiento\n",
    "    clf.fit(X_train, y_train)\n",
    "\n",
    "    # Realizamos predicciones con el clasificador entrenado\n",
    "    y_pred = clf.predict(X_test)\n",
    "\n",
    "    # Calculamos el porcentaje de acierto\n",
    "    accuracy = np.mean(y_pred == y_test)\n",
    "    print(\"Precisión: {:.2f}%\".format(accuracy * 100))"
   ]
  },
  {
   "cell_type": "code",
   "execution_count": null,
   "metadata": {},
   "outputs": [],
   "source": [
    "# Cargamos la imagen\n",
    "N = 16\n",
    "R = 3\n",
    "# Convertimos la imagen a escala de grises\n",
    "image = cv2.imread('test.jpg', cv2.IMREAD_GRAYSCALE)\n",
    "\n",
    "result = feature_extraction_1(image, N, R)\n",
    "\n",
    "print(len(result))"
   ]
  },
  {
   "cell_type": "code",
   "execution_count": null,
   "metadata": {},
   "outputs": [],
   "source": [
    "def feature_extraction_1(image, N, R):\n",
    "    # Obtenemos las dimensiones de la imagen\n",
    "    height, width = image.shape[:2]\n",
    "\n",
    "    #print(\"IMAGEN NxM: \",height, \"x\",width )\n",
    "\n",
    "    # Calculamos el número de bloques en filas y columnas\n",
    "    num_blocks_rows = height // N\n",
    "    num_blocks_cols = width // N\n",
    "\n",
    "    # Dividimos la imagen en bloques de N filas\n",
    "    blocks = np.vsplit(image, num_blocks_rows)\n",
    "   \n",
    "    histograms = np.zeros((num_blocks_rows*num_blocks_cols, 256,1))\n",
    "\n",
    "    # Iteramos sobre los bloques\n",
    "    for i, block in enumerate(blocks):\n",
    "        # Dividimos cada bloque en bloques de N columnas\n",
    "        cells = np.hsplit(block, num_blocks_cols)\n",
    "\n",
    "        # Iteramos sobre las celdas\n",
    "        for j, celda in enumerate(cells):\n",
    "            \n",
    "            vecinos = im_to_col(celda, R, R).T\n",
    "            # Inicializamos el array de resultados para todos los vecinos\n",
    "            result = np.zeros(vecinos.shape[0], np.uint8)\n",
    "            # Iteramos sobre cada vecino\n",
    "            for j, v in enumerate(vecinos):  \n",
    "                puntoMedio = (R*R)//2;              \n",
    "                # Obtenemos el valor del píxel central\n",
    "                center_pixel = v[puntoMedio]\n",
    "                \n",
    "                # Inicializamos el valor binario a 0\n",
    "                binary = ''\n",
    "                # Iteramos sobre los vecinos de la celda, excluyendo el píxel central\n",
    "                for x in range(len(v)):                    \n",
    "                    if x == puntoMedio :\n",
    "                        continue\n",
    "                    if v[x] < center_pixel:\n",
    "                        binary += '0'\n",
    "                    else:\n",
    "                        binary += '1'\n",
    "                # Modificamos el valor del píxel central por el del número binario obtenido\n",
    "                result[j] = int(binary, 2)\n",
    "\n",
    "            # Calculamos el histograma del bloque\n",
    "            histograms[j] = cv2.calcHist([result], [0], None, [256], [0, 256])\n",
    "\n",
    "    return histograms.flatten()"
   ]
  }
 ],
 "metadata": {
  "kernelspec": {
   "display_name": "Python 3",
   "language": "python",
   "name": "python3"
  },
  "language_info": {
   "name": "python",
   "version": "3.10.8 (tags/v3.10.8:aaaf517, Oct 11 2022, 16:50:30) [MSC v.1933 64 bit (AMD64)]"
  },
  "orig_nbformat": 4,
  "vscode": {
   "interpreter": {
    "hash": "26de051ba29f2982a8de78e945f0abaf191376122a1563185a90213a26c5da77"
   }
  }
 },
 "nbformat": 4,
 "nbformat_minor": 2
}
